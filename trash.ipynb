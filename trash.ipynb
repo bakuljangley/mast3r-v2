{
 "cells": [
  {
   "cell_type": "code",
   "execution_count": 1,
   "id": "dc915490",
   "metadata": {},
   "outputs": [
    {
     "name": "stdout",
     "output_type": "stream",
     "text": [
      "Loaded vbrInterpolatedDataset from scene:  campus_train0\n",
      "Images loaded from:  /datasets/vbr_slam/campus/campus_train0_kitti/camera_left/data\n",
      "Ground Truth Poses:  /datasets/vbr_slam/campus/campus_train0/campus_train0_gt.txt\n"
     ]
    }
   ],
   "source": [
    "from pathlib import Path\n",
    "def get_paths_from_scene(scene, root):\n",
    "    scene_name = scene.split(\"_\")[0]\n",
    "    img_dir = Path(root)/f\"{scene_name}\"/f\"{scene}_kitti/camera_left/data\"\n",
    "    lidar_dir = Path(root)/f\"{scene_name}\"/f\"{scene}_kitti/outser_points\"\n",
    "    calib_path = Path (root)/f\"{scene_name}\"/f\"{scene}\"/f\"vbr_calib.yaml\"\n",
    "    gt_poses = Path(root)/f\"{scene_name}\"/f\"{scene}\"/f\"{scene}_gt.txt\"\n",
    "    return img_dir, lidar_dir, calib_path, gt_poses\n",
    "\n",
    "\n",
    "root_dir = \"/datasets/vbr_slam\"\n",
    "scene_names = [\"campus_train0\"]\n",
    "from my_vbr_utils.vbr_dataset import CombinedDataset\n",
    "\n",
    "vbr_scene = CombinedDataset(scene_names, root_dir)"
   ]
  },
  {
   "cell_type": "code",
   "execution_count": 2,
   "id": "45b99f0d",
   "metadata": {},
   "outputs": [
    {
     "name": "stdout",
     "output_type": "stream",
     "text": [
      "Loaded vbrInterpolatedDataset from scene:  ciampino_train0\n",
      "Images loaded from:  /datasets/vbr_slam/ciampino/ciampino_train0_kitti/camera_left/data\n",
      "Ground Truth Poses:  /datasets/vbr_slam/ciampino/ciampino_train0/ciampino_train0_gt.txt\n"
     ]
    }
   ],
   "source": [
    "from my_vbr_utils.vbr_dataset import vbrDataset\n",
    "vbr_scene2=vbrDataset(root_dir,\"ciampino_train0\")"
   ]
  },
  {
   "cell_type": "code",
   "execution_count": null,
   "id": "231dc5ff",
   "metadata": {},
   "outputs": [],
   "source": []
  }
 ],
 "metadata": {
  "kernelspec": {
   "display_name": "mast3r",
   "language": "python",
   "name": "python3"
  },
  "language_info": {
   "codemirror_mode": {
    "name": "ipython",
    "version": 3
   },
   "file_extension": ".py",
   "mimetype": "text/x-python",
   "name": "python",
   "nbconvert_exporter": "python",
   "pygments_lexer": "ipython3",
   "version": "3.11.0"
  }
 },
 "nbformat": 4,
 "nbformat_minor": 5
}
